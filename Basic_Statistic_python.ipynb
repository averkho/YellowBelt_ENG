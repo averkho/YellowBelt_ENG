{
 "cells": [
  {
   "cell_type": "markdown",
   "metadata": {},
   "source": [
    "# Basic Statistic Calculation"
   ]
  },
  {
   "cell_type": "markdown",
   "metadata": {},
   "source": [
    "Importing the necessary modules and libraries"
   ]
  },
  {
   "cell_type": "code",
   "execution_count": null,
   "metadata": {},
   "outputs": [],
   "source": [
    "import numpy as np\n",
    "import pandas as pd"
   ]
  },
  {
   "cell_type": "markdown",
   "metadata": {},
   "source": [
    "Uploading  data from excel to python"
   ]
  },
  {
   "cell_type": "code",
   "execution_count": 2,
   "metadata": {},
   "outputs": [],
   "source": [
    "dat=pd.read_excel('C:/YellowBelt/Basic Statistic.xlsx')"
   ]
  },
  {
   "cell_type": "markdown",
   "metadata": {},
   "source": [
    "Display the top of the DataFrame"
   ]
  },
  {
   "cell_type": "code",
   "execution_count": 3,
   "metadata": {},
   "outputs": [
    {
     "data": {
      "text/html": [
       "<div>\n",
       "<style scoped>\n",
       "    .dataframe tbody tr th:only-of-type {\n",
       "        vertical-align: middle;\n",
       "    }\n",
       "\n",
       "    .dataframe tbody tr th {\n",
       "        vertical-align: top;\n",
       "    }\n",
       "\n",
       "    .dataframe thead th {\n",
       "        text-align: right;\n",
       "    }\n",
       "</style>\n",
       "<table border=\"1\" class=\"dataframe\">\n",
       "  <thead>\n",
       "    <tr style=\"text-align: right;\">\n",
       "      <th></th>\n",
       "      <th>Timestamp</th>\n",
       "      <th>Flow</th>\n",
       "      <th>Temp</th>\n",
       "    </tr>\n",
       "  </thead>\n",
       "  <tbody>\n",
       "    <tr>\n",
       "      <th>0</th>\n",
       "      <td>2020-01-01 00:00:00</td>\n",
       "      <td>153.691</td>\n",
       "      <td>80.4331</td>\n",
       "    </tr>\n",
       "    <tr>\n",
       "      <th>1</th>\n",
       "      <td>2020-01-01 01:00:00</td>\n",
       "      <td>154.099</td>\n",
       "      <td>81.5921</td>\n",
       "    </tr>\n",
       "    <tr>\n",
       "      <th>2</th>\n",
       "      <td>2020-01-01 02:00:00</td>\n",
       "      <td>149.657</td>\n",
       "      <td>82.319</td>\n",
       "    </tr>\n",
       "    <tr>\n",
       "      <th>3</th>\n",
       "      <td>2020-01-01 03:00:00</td>\n",
       "      <td>170.171</td>\n",
       "      <td>82.4797</td>\n",
       "    </tr>\n",
       "    <tr>\n",
       "      <th>4</th>\n",
       "      <td>2020-01-01 04:00:00</td>\n",
       "      <td>189.741</td>\n",
       "      <td>79.6605</td>\n",
       "    </tr>\n",
       "  </tbody>\n",
       "</table>\n",
       "</div>"
      ],
      "text/plain": [
       "            Timestamp     Flow     Temp\n",
       "0 2020-01-01 00:00:00  153.691  80.4331\n",
       "1 2020-01-01 01:00:00  154.099  81.5921\n",
       "2 2020-01-01 02:00:00  149.657   82.319\n",
       "3 2020-01-01 03:00:00  170.171  82.4797\n",
       "4 2020-01-01 04:00:00  189.741  79.6605"
      ]
     },
     "execution_count": 3,
     "metadata": {},
     "output_type": "execute_result"
    }
   ],
   "source": [
    "dat.head()"
   ]
  },
  {
   "cell_type": "markdown",
   "metadata": {},
   "source": [
    "Before proceeding to the calculations we should check the data type of the DataFrame, because mathematical operations can only be performed with numbers."
   ]
  },
  {
   "cell_type": "code",
   "execution_count": 4,
   "metadata": {},
   "outputs": [
    {
     "data": {
      "text/plain": [
       "Timestamp    datetime64[ns]\n",
       "Flow                 object\n",
       "Temp                 object\n",
       "dtype: object"
      ]
     },
     "execution_count": 4,
     "metadata": {},
     "output_type": "execute_result"
    }
   ],
   "source": [
    "dat.dtypes"
   ]
  },
  {
   "cell_type": "markdown",
   "metadata": {},
   "source": [
    "Pay attention to the data type Object. This means that most likely our table contains text values."
   ]
  },
  {
   "cell_type": "markdown",
   "metadata": {},
   "source": [
    "In this case there is only one text object ‘No Data’ in the table and they are relatively few, therefore, we will replace them with 0. Once again, this is not the best way, but one of the easiest."
   ]
  },
  {
   "cell_type": "code",
   "execution_count": 5,
   "metadata": {},
   "outputs": [],
   "source": [
    "dat=dat.replace('No Data',0)"
   ]
  },
  {
   "cell_type": "markdown",
   "metadata": {},
   "source": [
    "Chacking the result"
   ]
  },
  {
   "cell_type": "code",
   "execution_count": 6,
   "metadata": {},
   "outputs": [
    {
     "data": {
      "text/plain": [
       "Timestamp    datetime64[ns]\n",
       "Flow                float64\n",
       "Temp                float64\n",
       "dtype: object"
      ]
     },
     "execution_count": 6,
     "metadata": {},
     "output_type": "execute_result"
    }
   ],
   "source": [
    "dat.dtypes"
   ]
  },
  {
   "cell_type": "markdown",
   "metadata": {},
   "source": [
    "# Calculating the central tendency: mean, medan, mode"
   ]
  },
  {
   "cell_type": "markdown",
   "metadata": {},
   "source": [
    "Flow"
   ]
  },
  {
   "cell_type": "code",
   "execution_count": 7,
   "metadata": {},
   "outputs": [
    {
     "name": "stdout",
     "output_type": "stream",
     "text": [
      "The mean of the flow is  161.4  м3/ч\n",
      "The median of the flow is  211.3  м3/ч\n",
      "The mode of the flow is  0    0.0\n",
      "dtype: float64  м3/ч\n"
     ]
    }
   ],
   "source": [
    "mean=dat['Flow'].mean()\n",
    "median=dat['Flow'].median()\n",
    "mode=dat['Flow'].mode()\n",
    "\n",
    "print('The mean of the flow is ',np.round(mean,1),' м3/ч')\n",
    "print('The median of the flow is ',np.round(median,1),' м3/ч')\n",
    "print('The mode of the flow is ',np.round(mode,1),' м3/ч')"
   ]
  },
  {
   "cell_type": "markdown",
   "metadata": {},
   "source": [
    "It should be noted that for continuous variables, the mathematical calculation of the modes is a tricky and slippery process, which can lead to wrong conclusions"
   ]
  },
  {
   "cell_type": "markdown",
   "metadata": {},
   "source": [
    "Temperature"
   ]
  },
  {
   "cell_type": "code",
   "execution_count": 8,
   "metadata": {},
   "outputs": [
    {
     "name": "stdout",
     "output_type": "stream",
     "text": [
      "The mean of the temperature is  74.8  0C\n",
      "The median of the temperature is  79.9  0C\n",
      "The mode of the temperature is  0    16.4\n",
      "dtype: float64  0C\n"
     ]
    }
   ],
   "source": [
    "mean=dat['Temp'].mean()\n",
    "median=dat['Temp'].median()\n",
    "mode=dat['Temp'].mode()\n",
    "\n",
    "print('The mean of the temperature is ',np.round(mean,1),' 0C')\n",
    "print('The median of the temperature is ',np.round(median,1),' 0C')\n",
    "print('The mode of the temperature is ',np.round(mode,1),' 0C')"
   ]
  },
  {
   "cell_type": "markdown",
   "metadata": {},
   "source": [
    "# Calculating dispersion: variance, standard deviation, range"
   ]
  },
  {
   "cell_type": "code",
   "execution_count": 10,
   "metadata": {},
   "outputs": [
    {
     "name": "stdout",
     "output_type": "stream",
     "text": [
      "The standard deviation of the flow is  95.8  m3/h\n",
      "The variance of the flow is  9175.7  [m3/h]**2\n",
      "The range of the flow is  286.5  m3/h\n"
     ]
    }
   ],
   "source": [
    "std=dat['Flow'].std()\n",
    "var=dat['Flow'].var()\n",
    "Range=dat['Flow'].max()-dat['Flow'].min()\n",
    "\n",
    "print('The standard deviation of the flow is ',np.round(std,1),' m3/h')\n",
    "print('The variance of the flow is ',np.round(var,1),' [m3/h]**2')\n",
    "print('The range of the flow is ',np.round(Range,1),' m3/h')"
   ]
  },
  {
   "cell_type": "code",
   "execution_count": 11,
   "metadata": {},
   "outputs": [
    {
     "name": "stdout",
     "output_type": "stream",
     "text": [
      "The standard deviation of the temperature is  17.4  0C\n",
      "The variance of the temperature is  301.6  [0C]**2\n",
      "The range of the temperature is  95.3  0C\n"
     ]
    }
   ],
   "source": [
    "std=dat['Temp'].std()\n",
    "var=dat['Temp'].var()\n",
    "Range=dat['Temp'].max()-dat['Temp'].min()\n",
    "\n",
    "print('The standard deviation of the temperature is ',np.round(std,1),' 0C')\n",
    "print('The variance of the temperature is ',np.round(var,1),' [0C]**2')\n",
    "print('The range of the temperature is ',np.round(Range,1),' 0C')"
   ]
  },
  {
   "cell_type": "markdown",
   "metadata": {},
   "source": [
    "# Calculating basic statistics in dynamics"
   ]
  },
  {
   "cell_type": "code",
   "execution_count": 12,
   "metadata": {},
   "outputs": [
    {
     "data": {
      "text/html": [
       "<div>\n",
       "<style scoped>\n",
       "    .dataframe tbody tr th:only-of-type {\n",
       "        vertical-align: middle;\n",
       "    }\n",
       "\n",
       "    .dataframe tbody tr th {\n",
       "        vertical-align: top;\n",
       "    }\n",
       "\n",
       "    .dataframe thead th {\n",
       "        text-align: right;\n",
       "    }\n",
       "</style>\n",
       "<table border=\"1\" class=\"dataframe\">\n",
       "  <thead>\n",
       "    <tr style=\"text-align: right;\">\n",
       "      <th></th>\n",
       "      <th>Timestamp</th>\n",
       "      <th>Flow</th>\n",
       "      <th>Temp</th>\n",
       "    </tr>\n",
       "  </thead>\n",
       "  <tbody>\n",
       "    <tr>\n",
       "      <th>0</th>\n",
       "      <td>2020-01-01 00:00:00</td>\n",
       "      <td>153.690878</td>\n",
       "      <td>80.433116</td>\n",
       "    </tr>\n",
       "    <tr>\n",
       "      <th>1</th>\n",
       "      <td>2020-01-01 01:00:00</td>\n",
       "      <td>154.099492</td>\n",
       "      <td>81.592063</td>\n",
       "    </tr>\n",
       "    <tr>\n",
       "      <th>2</th>\n",
       "      <td>2020-01-01 02:00:00</td>\n",
       "      <td>149.656640</td>\n",
       "      <td>82.318956</td>\n",
       "    </tr>\n",
       "    <tr>\n",
       "      <th>3</th>\n",
       "      <td>2020-01-01 03:00:00</td>\n",
       "      <td>170.171335</td>\n",
       "      <td>82.479672</td>\n",
       "    </tr>\n",
       "    <tr>\n",
       "      <th>4</th>\n",
       "      <td>2020-01-01 04:00:00</td>\n",
       "      <td>189.740643</td>\n",
       "      <td>79.660519</td>\n",
       "    </tr>\n",
       "  </tbody>\n",
       "</table>\n",
       "</div>"
      ],
      "text/plain": [
       "            Timestamp        Flow       Temp\n",
       "0 2020-01-01 00:00:00  153.690878  80.433116\n",
       "1 2020-01-01 01:00:00  154.099492  81.592063\n",
       "2 2020-01-01 02:00:00  149.656640  82.318956\n",
       "3 2020-01-01 03:00:00  170.171335  82.479672\n",
       "4 2020-01-01 04:00:00  189.740643  79.660519"
      ]
     },
     "execution_count": 12,
     "metadata": {},
     "output_type": "execute_result"
    }
   ],
   "source": [
    "dat.head()"
   ]
  },
  {
   "cell_type": "markdown",
   "metadata": {},
   "source": [
    "Getting categorical variable from timestamp - months"
   ]
  },
  {
   "cell_type": "code",
   "execution_count": 13,
   "metadata": {},
   "outputs": [
    {
     "data": {
      "text/html": [
       "<div>\n",
       "<style scoped>\n",
       "    .dataframe tbody tr th:only-of-type {\n",
       "        vertical-align: middle;\n",
       "    }\n",
       "\n",
       "    .dataframe tbody tr th {\n",
       "        vertical-align: top;\n",
       "    }\n",
       "\n",
       "    .dataframe thead th {\n",
       "        text-align: right;\n",
       "    }\n",
       "</style>\n",
       "<table border=\"1\" class=\"dataframe\">\n",
       "  <thead>\n",
       "    <tr style=\"text-align: right;\">\n",
       "      <th></th>\n",
       "      <th>Timestamp</th>\n",
       "      <th>Flow</th>\n",
       "      <th>Temp</th>\n",
       "      <th>month_year</th>\n",
       "    </tr>\n",
       "  </thead>\n",
       "  <tbody>\n",
       "    <tr>\n",
       "      <th>0</th>\n",
       "      <td>2020-01-01 00:00:00</td>\n",
       "      <td>153.690878</td>\n",
       "      <td>80.433116</td>\n",
       "      <td>01-20</td>\n",
       "    </tr>\n",
       "    <tr>\n",
       "      <th>1</th>\n",
       "      <td>2020-01-01 01:00:00</td>\n",
       "      <td>154.099492</td>\n",
       "      <td>81.592063</td>\n",
       "      <td>01-20</td>\n",
       "    </tr>\n",
       "    <tr>\n",
       "      <th>2</th>\n",
       "      <td>2020-01-01 02:00:00</td>\n",
       "      <td>149.656640</td>\n",
       "      <td>82.318956</td>\n",
       "      <td>01-20</td>\n",
       "    </tr>\n",
       "    <tr>\n",
       "      <th>3</th>\n",
       "      <td>2020-01-01 03:00:00</td>\n",
       "      <td>170.171335</td>\n",
       "      <td>82.479672</td>\n",
       "      <td>01-20</td>\n",
       "    </tr>\n",
       "    <tr>\n",
       "      <th>4</th>\n",
       "      <td>2020-01-01 04:00:00</td>\n",
       "      <td>189.740643</td>\n",
       "      <td>79.660519</td>\n",
       "      <td>01-20</td>\n",
       "    </tr>\n",
       "  </tbody>\n",
       "</table>\n",
       "</div>"
      ],
      "text/plain": [
       "            Timestamp        Flow       Temp month_year\n",
       "0 2020-01-01 00:00:00  153.690878  80.433116      01-20\n",
       "1 2020-01-01 01:00:00  154.099492  81.592063      01-20\n",
       "2 2020-01-01 02:00:00  149.656640  82.318956      01-20\n",
       "3 2020-01-01 03:00:00  170.171335  82.479672      01-20\n",
       "4 2020-01-01 04:00:00  189.740643  79.660519      01-20"
      ]
     },
     "execution_count": 13,
     "metadata": {},
     "output_type": "execute_result"
    }
   ],
   "source": [
    "dat['month_year']=dat['Timestamp'].dt.strftime('%m-%y')\n",
    "dat.head()"
   ]
  },
  {
   "cell_type": "markdown",
   "metadata": {},
   "source": [
    "The statistics to be calculated in the from of a list"
   ]
  },
  {
   "cell_type": "code",
   "execution_count": 14,
   "metadata": {},
   "outputs": [],
   "source": [
    "stat_list=['mean','sum','median','var','std','min','max']"
   ]
  },
  {
   "cell_type": "markdown",
   "metadata": {},
   "source": [
    "Creating groupped DataFrame."
   ]
  },
  {
   "cell_type": "code",
   "execution_count": 16,
   "metadata": {},
   "outputs": [
    {
     "data": {
      "text/html": [
       "<div>\n",
       "<style scoped>\n",
       "    .dataframe tbody tr th:only-of-type {\n",
       "        vertical-align: middle;\n",
       "    }\n",
       "\n",
       "    .dataframe tbody tr th {\n",
       "        vertical-align: top;\n",
       "    }\n",
       "\n",
       "    .dataframe thead tr th {\n",
       "        text-align: left;\n",
       "    }\n",
       "\n",
       "    .dataframe thead tr:last-of-type th {\n",
       "        text-align: right;\n",
       "    }\n",
       "</style>\n",
       "<table border=\"1\" class=\"dataframe\">\n",
       "  <thead>\n",
       "    <tr>\n",
       "      <th></th>\n",
       "      <th colspan=\"7\" halign=\"left\">Flow</th>\n",
       "      <th colspan=\"7\" halign=\"left\">Temp</th>\n",
       "    </tr>\n",
       "    <tr>\n",
       "      <th></th>\n",
       "      <th>mean</th>\n",
       "      <th>sum</th>\n",
       "      <th>median</th>\n",
       "      <th>var</th>\n",
       "      <th>std</th>\n",
       "      <th>min</th>\n",
       "      <th>max</th>\n",
       "      <th>mean</th>\n",
       "      <th>sum</th>\n",
       "      <th>median</th>\n",
       "      <th>var</th>\n",
       "      <th>std</th>\n",
       "      <th>min</th>\n",
       "      <th>max</th>\n",
       "    </tr>\n",
       "    <tr>\n",
       "      <th>month_year</th>\n",
       "      <th></th>\n",
       "      <th></th>\n",
       "      <th></th>\n",
       "      <th></th>\n",
       "      <th></th>\n",
       "      <th></th>\n",
       "      <th></th>\n",
       "      <th></th>\n",
       "      <th></th>\n",
       "      <th></th>\n",
       "      <th></th>\n",
       "      <th></th>\n",
       "      <th></th>\n",
       "      <th></th>\n",
       "    </tr>\n",
       "  </thead>\n",
       "  <tbody>\n",
       "    <tr>\n",
       "      <th>01-20</th>\n",
       "      <td>208.858230</td>\n",
       "      <td>155390.523366</td>\n",
       "      <td>215.207827</td>\n",
       "      <td>1239.731125</td>\n",
       "      <td>35.209816</td>\n",
       "      <td>24.000752</td>\n",
       "      <td>262.626092</td>\n",
       "      <td>78.039142</td>\n",
       "      <td>58061.121334</td>\n",
       "      <td>79.497799</td>\n",
       "      <td>76.447802</td>\n",
       "      <td>8.743443</td>\n",
       "      <td>4.844634</td>\n",
       "      <td>93.168172</td>\n",
       "    </tr>\n",
       "    <tr>\n",
       "      <th>02-20</th>\n",
       "      <td>192.720845</td>\n",
       "      <td>134133.708377</td>\n",
       "      <td>216.292004</td>\n",
       "      <td>4129.301732</td>\n",
       "      <td>64.259643</td>\n",
       "      <td>0.000000</td>\n",
       "      <td>257.639249</td>\n",
       "      <td>75.980025</td>\n",
       "      <td>52882.097446</td>\n",
       "      <td>79.202422</td>\n",
       "      <td>201.705988</td>\n",
       "      <td>14.202323</td>\n",
       "      <td>1.325412</td>\n",
       "      <td>91.523860</td>\n",
       "    </tr>\n",
       "    <tr>\n",
       "      <th>03-20</th>\n",
       "      <td>26.641105</td>\n",
       "      <td>19820.982340</td>\n",
       "      <td>26.288624</td>\n",
       "      <td>25.408132</td>\n",
       "      <td>5.040648</td>\n",
       "      <td>0.000000</td>\n",
       "      <td>38.023277</td>\n",
       "      <td>77.346072</td>\n",
       "      <td>57545.477772</td>\n",
       "      <td>80.373867</td>\n",
       "      <td>171.972739</td>\n",
       "      <td>13.113838</td>\n",
       "      <td>4.275353</td>\n",
       "      <td>90.361182</td>\n",
       "    </tr>\n",
       "    <tr>\n",
       "      <th>04-20</th>\n",
       "      <td>124.438245</td>\n",
       "      <td>89595.536518</td>\n",
       "      <td>126.575638</td>\n",
       "      <td>9915.702990</td>\n",
       "      <td>99.577623</td>\n",
       "      <td>3.061340</td>\n",
       "      <td>275.692500</td>\n",
       "      <td>79.166222</td>\n",
       "      <td>56999.679735</td>\n",
       "      <td>80.555430</td>\n",
       "      <td>77.916496</td>\n",
       "      <td>8.827032</td>\n",
       "      <td>15.450946</td>\n",
       "      <td>93.508958</td>\n",
       "    </tr>\n",
       "    <tr>\n",
       "      <th>05-20</th>\n",
       "      <td>154.064101</td>\n",
       "      <td>114623.690939</td>\n",
       "      <td>204.427481</td>\n",
       "      <td>7746.074089</td>\n",
       "      <td>88.011784</td>\n",
       "      <td>0.000000</td>\n",
       "      <td>262.808583</td>\n",
       "      <td>68.388925</td>\n",
       "      <td>50881.359966</td>\n",
       "      <td>79.250499</td>\n",
       "      <td>541.406017</td>\n",
       "      <td>23.268133</td>\n",
       "      <td>0.000000</td>\n",
       "      <td>95.340019</td>\n",
       "    </tr>\n",
       "  </tbody>\n",
       "</table>\n",
       "</div>"
      ],
      "text/plain": [
       "                  Flow                                                     \\\n",
       "                  mean            sum      median          var        std   \n",
       "month_year                                                                  \n",
       "01-20       208.858230  155390.523366  215.207827  1239.731125  35.209816   \n",
       "02-20       192.720845  134133.708377  216.292004  4129.301732  64.259643   \n",
       "03-20        26.641105   19820.982340   26.288624    25.408132   5.040648   \n",
       "04-20       124.438245   89595.536518  126.575638  9915.702990  99.577623   \n",
       "05-20       154.064101  114623.690939  204.427481  7746.074089  88.011784   \n",
       "\n",
       "                                        Temp                           \\\n",
       "                  min         max       mean           sum     median   \n",
       "month_year                                                              \n",
       "01-20       24.000752  262.626092  78.039142  58061.121334  79.497799   \n",
       "02-20        0.000000  257.639249  75.980025  52882.097446  79.202422   \n",
       "03-20        0.000000   38.023277  77.346072  57545.477772  80.373867   \n",
       "04-20        3.061340  275.692500  79.166222  56999.679735  80.555430   \n",
       "05-20        0.000000  262.808583  68.388925  50881.359966  79.250499   \n",
       "\n",
       "                                                         \n",
       "                   var        std        min        max  \n",
       "month_year                                               \n",
       "01-20        76.447802   8.743443   4.844634  93.168172  \n",
       "02-20       201.705988  14.202323   1.325412  91.523860  \n",
       "03-20       171.972739  13.113838   4.275353  90.361182  \n",
       "04-20        77.916496   8.827032  15.450946  93.508958  \n",
       "05-20       541.406017  23.268133   0.000000  95.340019  "
      ]
     },
     "execution_count": 16,
     "metadata": {},
     "output_type": "execute_result"
    }
   ],
   "source": [
    "dat_tab=dat.groupby('month_year').agg({'Flow':stat_list,'Temp':stat_list})\n",
    "dat_tab.head()"
   ]
  },
  {
   "cell_type": "markdown",
   "metadata": {},
   "source": [
    "Or you can dsiplay the whole table"
   ]
  },
  {
   "cell_type": "code",
   "execution_count": 17,
   "metadata": {},
   "outputs": [
    {
     "data": {
      "text/html": [
       "<div>\n",
       "<style scoped>\n",
       "    .dataframe tbody tr th:only-of-type {\n",
       "        vertical-align: middle;\n",
       "    }\n",
       "\n",
       "    .dataframe tbody tr th {\n",
       "        vertical-align: top;\n",
       "    }\n",
       "\n",
       "    .dataframe thead tr th {\n",
       "        text-align: left;\n",
       "    }\n",
       "\n",
       "    .dataframe thead tr:last-of-type th {\n",
       "        text-align: right;\n",
       "    }\n",
       "</style>\n",
       "<table border=\"1\" class=\"dataframe\">\n",
       "  <thead>\n",
       "    <tr>\n",
       "      <th></th>\n",
       "      <th colspan=\"7\" halign=\"left\">Flow</th>\n",
       "      <th colspan=\"7\" halign=\"left\">Temp</th>\n",
       "    </tr>\n",
       "    <tr>\n",
       "      <th></th>\n",
       "      <th>mean</th>\n",
       "      <th>sum</th>\n",
       "      <th>median</th>\n",
       "      <th>var</th>\n",
       "      <th>std</th>\n",
       "      <th>min</th>\n",
       "      <th>max</th>\n",
       "      <th>mean</th>\n",
       "      <th>sum</th>\n",
       "      <th>median</th>\n",
       "      <th>var</th>\n",
       "      <th>std</th>\n",
       "      <th>min</th>\n",
       "      <th>max</th>\n",
       "    </tr>\n",
       "    <tr>\n",
       "      <th>month_year</th>\n",
       "      <th></th>\n",
       "      <th></th>\n",
       "      <th></th>\n",
       "      <th></th>\n",
       "      <th></th>\n",
       "      <th></th>\n",
       "      <th></th>\n",
       "      <th></th>\n",
       "      <th></th>\n",
       "      <th></th>\n",
       "      <th></th>\n",
       "      <th></th>\n",
       "      <th></th>\n",
       "      <th></th>\n",
       "    </tr>\n",
       "  </thead>\n",
       "  <tbody>\n",
       "    <tr>\n",
       "      <th>01-20</th>\n",
       "      <td>208.858230</td>\n",
       "      <td>155390.523366</td>\n",
       "      <td>215.207827</td>\n",
       "      <td>1239.731125</td>\n",
       "      <td>35.209816</td>\n",
       "      <td>24.000752</td>\n",
       "      <td>262.626092</td>\n",
       "      <td>78.039142</td>\n",
       "      <td>58061.121334</td>\n",
       "      <td>79.497799</td>\n",
       "      <td>76.447802</td>\n",
       "      <td>8.743443</td>\n",
       "      <td>4.844634</td>\n",
       "      <td>93.168172</td>\n",
       "    </tr>\n",
       "    <tr>\n",
       "      <th>02-20</th>\n",
       "      <td>192.720845</td>\n",
       "      <td>134133.708377</td>\n",
       "      <td>216.292004</td>\n",
       "      <td>4129.301732</td>\n",
       "      <td>64.259643</td>\n",
       "      <td>0.000000</td>\n",
       "      <td>257.639249</td>\n",
       "      <td>75.980025</td>\n",
       "      <td>52882.097446</td>\n",
       "      <td>79.202422</td>\n",
       "      <td>201.705988</td>\n",
       "      <td>14.202323</td>\n",
       "      <td>1.325412</td>\n",
       "      <td>91.523860</td>\n",
       "    </tr>\n",
       "    <tr>\n",
       "      <th>03-20</th>\n",
       "      <td>26.641105</td>\n",
       "      <td>19820.982340</td>\n",
       "      <td>26.288624</td>\n",
       "      <td>25.408132</td>\n",
       "      <td>5.040648</td>\n",
       "      <td>0.000000</td>\n",
       "      <td>38.023277</td>\n",
       "      <td>77.346072</td>\n",
       "      <td>57545.477772</td>\n",
       "      <td>80.373867</td>\n",
       "      <td>171.972739</td>\n",
       "      <td>13.113838</td>\n",
       "      <td>4.275353</td>\n",
       "      <td>90.361182</td>\n",
       "    </tr>\n",
       "    <tr>\n",
       "      <th>04-20</th>\n",
       "      <td>124.438245</td>\n",
       "      <td>89595.536518</td>\n",
       "      <td>126.575638</td>\n",
       "      <td>9915.702990</td>\n",
       "      <td>99.577623</td>\n",
       "      <td>3.061340</td>\n",
       "      <td>275.692500</td>\n",
       "      <td>79.166222</td>\n",
       "      <td>56999.679735</td>\n",
       "      <td>80.555430</td>\n",
       "      <td>77.916496</td>\n",
       "      <td>8.827032</td>\n",
       "      <td>15.450946</td>\n",
       "      <td>93.508958</td>\n",
       "    </tr>\n",
       "    <tr>\n",
       "      <th>05-20</th>\n",
       "      <td>154.064101</td>\n",
       "      <td>114623.690939</td>\n",
       "      <td>204.427481</td>\n",
       "      <td>7746.074089</td>\n",
       "      <td>88.011784</td>\n",
       "      <td>0.000000</td>\n",
       "      <td>262.808583</td>\n",
       "      <td>68.388925</td>\n",
       "      <td>50881.359966</td>\n",
       "      <td>79.250499</td>\n",
       "      <td>541.406017</td>\n",
       "      <td>23.268133</td>\n",
       "      <td>0.000000</td>\n",
       "      <td>95.340019</td>\n",
       "    </tr>\n",
       "    <tr>\n",
       "      <th>06-20</th>\n",
       "      <td>163.734870</td>\n",
       "      <td>117889.106677</td>\n",
       "      <td>212.033976</td>\n",
       "      <td>9329.729503</td>\n",
       "      <td>96.590525</td>\n",
       "      <td>0.000000</td>\n",
       "      <td>278.055342</td>\n",
       "      <td>63.528694</td>\n",
       "      <td>45740.659675</td>\n",
       "      <td>78.684034</td>\n",
       "      <td>797.004098</td>\n",
       "      <td>28.231261</td>\n",
       "      <td>12.811247</td>\n",
       "      <td>94.306563</td>\n",
       "    </tr>\n",
       "    <tr>\n",
       "      <th>07-20</th>\n",
       "      <td>248.179360</td>\n",
       "      <td>184645.444144</td>\n",
       "      <td>252.576868</td>\n",
       "      <td>1052.416073</td>\n",
       "      <td>32.440963</td>\n",
       "      <td>36.935142</td>\n",
       "      <td>286.529330</td>\n",
       "      <td>80.062166</td>\n",
       "      <td>59566.251830</td>\n",
       "      <td>80.836480</td>\n",
       "      <td>45.501416</td>\n",
       "      <td>6.745474</td>\n",
       "      <td>23.860327</td>\n",
       "      <td>92.019701</td>\n",
       "    </tr>\n",
       "    <tr>\n",
       "      <th>08-20</th>\n",
       "      <td>263.455612</td>\n",
       "      <td>22920.638259</td>\n",
       "      <td>274.405121</td>\n",
       "      <td>1218.633443</td>\n",
       "      <td>34.908931</td>\n",
       "      <td>42.009222</td>\n",
       "      <td>283.559237</td>\n",
       "      <td>80.383743</td>\n",
       "      <td>6993.385643</td>\n",
       "      <td>80.946641</td>\n",
       "      <td>57.534051</td>\n",
       "      <td>7.585120</td>\n",
       "      <td>27.301398</td>\n",
       "      <td>90.381887</td>\n",
       "    </tr>\n",
       "  </tbody>\n",
       "</table>\n",
       "</div>"
      ],
      "text/plain": [
       "                  Flow                                                     \\\n",
       "                  mean            sum      median          var        std   \n",
       "month_year                                                                  \n",
       "01-20       208.858230  155390.523366  215.207827  1239.731125  35.209816   \n",
       "02-20       192.720845  134133.708377  216.292004  4129.301732  64.259643   \n",
       "03-20        26.641105   19820.982340   26.288624    25.408132   5.040648   \n",
       "04-20       124.438245   89595.536518  126.575638  9915.702990  99.577623   \n",
       "05-20       154.064101  114623.690939  204.427481  7746.074089  88.011784   \n",
       "06-20       163.734870  117889.106677  212.033976  9329.729503  96.590525   \n",
       "07-20       248.179360  184645.444144  252.576868  1052.416073  32.440963   \n",
       "08-20       263.455612   22920.638259  274.405121  1218.633443  34.908931   \n",
       "\n",
       "                                        Temp                           \\\n",
       "                  min         max       mean           sum     median   \n",
       "month_year                                                              \n",
       "01-20       24.000752  262.626092  78.039142  58061.121334  79.497799   \n",
       "02-20        0.000000  257.639249  75.980025  52882.097446  79.202422   \n",
       "03-20        0.000000   38.023277  77.346072  57545.477772  80.373867   \n",
       "04-20        3.061340  275.692500  79.166222  56999.679735  80.555430   \n",
       "05-20        0.000000  262.808583  68.388925  50881.359966  79.250499   \n",
       "06-20        0.000000  278.055342  63.528694  45740.659675  78.684034   \n",
       "07-20       36.935142  286.529330  80.062166  59566.251830  80.836480   \n",
       "08-20       42.009222  283.559237  80.383743   6993.385643  80.946641   \n",
       "\n",
       "                                                         \n",
       "                   var        std        min        max  \n",
       "month_year                                               \n",
       "01-20        76.447802   8.743443   4.844634  93.168172  \n",
       "02-20       201.705988  14.202323   1.325412  91.523860  \n",
       "03-20       171.972739  13.113838   4.275353  90.361182  \n",
       "04-20        77.916496   8.827032  15.450946  93.508958  \n",
       "05-20       541.406017  23.268133   0.000000  95.340019  \n",
       "06-20       797.004098  28.231261  12.811247  94.306563  \n",
       "07-20        45.501416   6.745474  23.860327  92.019701  \n",
       "08-20        57.534051   7.585120  27.301398  90.381887  "
      ]
     },
     "execution_count": 17,
     "metadata": {},
     "output_type": "execute_result"
    }
   ],
   "source": [
    "dat_tab"
   ]
  },
  {
   "cell_type": "markdown",
   "metadata": {},
   "source": [
    "The columns' names of the DataFrame"
   ]
  },
  {
   "cell_type": "code",
   "execution_count": 19,
   "metadata": {},
   "outputs": [
    {
     "data": {
      "text/plain": [
       "MultiIndex([('Flow',   'mean'),\n",
       "            ('Flow',    'sum'),\n",
       "            ('Flow', 'median'),\n",
       "            ('Flow',    'var'),\n",
       "            ('Flow',    'std'),\n",
       "            ('Flow',    'min'),\n",
       "            ('Flow',    'max'),\n",
       "            ('Temp',   'mean'),\n",
       "            ('Temp',    'sum'),\n",
       "            ('Temp', 'median'),\n",
       "            ('Temp',    'var'),\n",
       "            ('Temp',    'std'),\n",
       "            ('Temp',    'min'),\n",
       "            ('Temp',    'max')],\n",
       "           )"
      ]
     },
     "execution_count": 19,
     "metadata": {},
     "output_type": "execute_result"
    }
   ],
   "source": [
    "dat_tab.columns"
   ]
  },
  {
   "cell_type": "markdown",
   "metadata": {},
   "source": [
    "New columns' names"
   ]
  },
  {
   "cell_type": "code",
   "execution_count": 20,
   "metadata": {},
   "outputs": [],
   "source": [
    "column_list=['Flow_'+col for col in stat_list]+['Temp_'+col for col in stat_list]"
   ]
  },
  {
   "cell_type": "markdown",
   "metadata": {},
   "source": [
    "Assigning these column names to our table (DataFrame)"
   ]
  },
  {
   "cell_type": "code",
   "execution_count": 21,
   "metadata": {},
   "outputs": [],
   "source": [
    "dat_tab.columns=column_list"
   ]
  },
  {
   "cell_type": "markdown",
   "metadata": {},
   "source": [
    "Calculating the range of flow and temperature"
   ]
  },
  {
   "cell_type": "code",
   "execution_count": 22,
   "metadata": {},
   "outputs": [],
   "source": [
    "dat_tab['Temp_range']=dat_tab['Temp_max']-dat_tab['Temp_min']\n",
    "dat_tab['Flow_range']=dat_tab['Flow_max']-dat_tab['Flow_min']"
   ]
  },
  {
   "cell_type": "markdown",
   "metadata": {},
   "source": [
    "Rounding the values in the table"
   ]
  },
  {
   "cell_type": "code",
   "execution_count": 23,
   "metadata": {},
   "outputs": [],
   "source": [
    "dat_tab=np.round(dat_tab,1)"
   ]
  },
  {
   "cell_type": "markdown",
   "metadata": {},
   "source": [
    "The result"
   ]
  },
  {
   "cell_type": "code",
   "execution_count": 24,
   "metadata": {},
   "outputs": [
    {
     "data": {
      "text/html": [
       "<div>\n",
       "<style scoped>\n",
       "    .dataframe tbody tr th:only-of-type {\n",
       "        vertical-align: middle;\n",
       "    }\n",
       "\n",
       "    .dataframe tbody tr th {\n",
       "        vertical-align: top;\n",
       "    }\n",
       "\n",
       "    .dataframe thead th {\n",
       "        text-align: right;\n",
       "    }\n",
       "</style>\n",
       "<table border=\"1\" class=\"dataframe\">\n",
       "  <thead>\n",
       "    <tr style=\"text-align: right;\">\n",
       "      <th></th>\n",
       "      <th>Flow_mean</th>\n",
       "      <th>Flow_sum</th>\n",
       "      <th>Flow_median</th>\n",
       "      <th>Flow_var</th>\n",
       "      <th>Flow_std</th>\n",
       "      <th>Flow_min</th>\n",
       "      <th>Flow_max</th>\n",
       "      <th>Temp_mean</th>\n",
       "      <th>Temp_sum</th>\n",
       "      <th>Temp_median</th>\n",
       "      <th>Temp_var</th>\n",
       "      <th>Temp_std</th>\n",
       "      <th>Temp_min</th>\n",
       "      <th>Temp_max</th>\n",
       "      <th>Temp_range</th>\n",
       "      <th>Flow_range</th>\n",
       "    </tr>\n",
       "    <tr>\n",
       "      <th>month_year</th>\n",
       "      <th></th>\n",
       "      <th></th>\n",
       "      <th></th>\n",
       "      <th></th>\n",
       "      <th></th>\n",
       "      <th></th>\n",
       "      <th></th>\n",
       "      <th></th>\n",
       "      <th></th>\n",
       "      <th></th>\n",
       "      <th></th>\n",
       "      <th></th>\n",
       "      <th></th>\n",
       "      <th></th>\n",
       "      <th></th>\n",
       "      <th></th>\n",
       "    </tr>\n",
       "  </thead>\n",
       "  <tbody>\n",
       "    <tr>\n",
       "      <th>01-20</th>\n",
       "      <td>208.9</td>\n",
       "      <td>155390.5</td>\n",
       "      <td>215.2</td>\n",
       "      <td>1239.7</td>\n",
       "      <td>35.2</td>\n",
       "      <td>24.0</td>\n",
       "      <td>262.6</td>\n",
       "      <td>78.0</td>\n",
       "      <td>58061.1</td>\n",
       "      <td>79.5</td>\n",
       "      <td>76.4</td>\n",
       "      <td>8.7</td>\n",
       "      <td>4.8</td>\n",
       "      <td>93.2</td>\n",
       "      <td>88.3</td>\n",
       "      <td>238.6</td>\n",
       "    </tr>\n",
       "    <tr>\n",
       "      <th>02-20</th>\n",
       "      <td>192.7</td>\n",
       "      <td>134133.7</td>\n",
       "      <td>216.3</td>\n",
       "      <td>4129.3</td>\n",
       "      <td>64.3</td>\n",
       "      <td>0.0</td>\n",
       "      <td>257.6</td>\n",
       "      <td>76.0</td>\n",
       "      <td>52882.1</td>\n",
       "      <td>79.2</td>\n",
       "      <td>201.7</td>\n",
       "      <td>14.2</td>\n",
       "      <td>1.3</td>\n",
       "      <td>91.5</td>\n",
       "      <td>90.2</td>\n",
       "      <td>257.6</td>\n",
       "    </tr>\n",
       "    <tr>\n",
       "      <th>03-20</th>\n",
       "      <td>26.6</td>\n",
       "      <td>19821.0</td>\n",
       "      <td>26.3</td>\n",
       "      <td>25.4</td>\n",
       "      <td>5.0</td>\n",
       "      <td>0.0</td>\n",
       "      <td>38.0</td>\n",
       "      <td>77.3</td>\n",
       "      <td>57545.5</td>\n",
       "      <td>80.4</td>\n",
       "      <td>172.0</td>\n",
       "      <td>13.1</td>\n",
       "      <td>4.3</td>\n",
       "      <td>90.4</td>\n",
       "      <td>86.1</td>\n",
       "      <td>38.0</td>\n",
       "    </tr>\n",
       "    <tr>\n",
       "      <th>04-20</th>\n",
       "      <td>124.4</td>\n",
       "      <td>89595.5</td>\n",
       "      <td>126.6</td>\n",
       "      <td>9915.7</td>\n",
       "      <td>99.6</td>\n",
       "      <td>3.1</td>\n",
       "      <td>275.7</td>\n",
       "      <td>79.2</td>\n",
       "      <td>56999.7</td>\n",
       "      <td>80.6</td>\n",
       "      <td>77.9</td>\n",
       "      <td>8.8</td>\n",
       "      <td>15.5</td>\n",
       "      <td>93.5</td>\n",
       "      <td>78.1</td>\n",
       "      <td>272.6</td>\n",
       "    </tr>\n",
       "    <tr>\n",
       "      <th>05-20</th>\n",
       "      <td>154.1</td>\n",
       "      <td>114623.7</td>\n",
       "      <td>204.4</td>\n",
       "      <td>7746.1</td>\n",
       "      <td>88.0</td>\n",
       "      <td>0.0</td>\n",
       "      <td>262.8</td>\n",
       "      <td>68.4</td>\n",
       "      <td>50881.4</td>\n",
       "      <td>79.3</td>\n",
       "      <td>541.4</td>\n",
       "      <td>23.3</td>\n",
       "      <td>0.0</td>\n",
       "      <td>95.3</td>\n",
       "      <td>95.3</td>\n",
       "      <td>262.8</td>\n",
       "    </tr>\n",
       "    <tr>\n",
       "      <th>06-20</th>\n",
       "      <td>163.7</td>\n",
       "      <td>117889.1</td>\n",
       "      <td>212.0</td>\n",
       "      <td>9329.7</td>\n",
       "      <td>96.6</td>\n",
       "      <td>0.0</td>\n",
       "      <td>278.1</td>\n",
       "      <td>63.5</td>\n",
       "      <td>45740.7</td>\n",
       "      <td>78.7</td>\n",
       "      <td>797.0</td>\n",
       "      <td>28.2</td>\n",
       "      <td>12.8</td>\n",
       "      <td>94.3</td>\n",
       "      <td>81.5</td>\n",
       "      <td>278.1</td>\n",
       "    </tr>\n",
       "    <tr>\n",
       "      <th>07-20</th>\n",
       "      <td>248.2</td>\n",
       "      <td>184645.4</td>\n",
       "      <td>252.6</td>\n",
       "      <td>1052.4</td>\n",
       "      <td>32.4</td>\n",
       "      <td>36.9</td>\n",
       "      <td>286.5</td>\n",
       "      <td>80.1</td>\n",
       "      <td>59566.3</td>\n",
       "      <td>80.8</td>\n",
       "      <td>45.5</td>\n",
       "      <td>6.7</td>\n",
       "      <td>23.9</td>\n",
       "      <td>92.0</td>\n",
       "      <td>68.2</td>\n",
       "      <td>249.6</td>\n",
       "    </tr>\n",
       "    <tr>\n",
       "      <th>08-20</th>\n",
       "      <td>263.5</td>\n",
       "      <td>22920.6</td>\n",
       "      <td>274.4</td>\n",
       "      <td>1218.6</td>\n",
       "      <td>34.9</td>\n",
       "      <td>42.0</td>\n",
       "      <td>283.6</td>\n",
       "      <td>80.4</td>\n",
       "      <td>6993.4</td>\n",
       "      <td>80.9</td>\n",
       "      <td>57.5</td>\n",
       "      <td>7.6</td>\n",
       "      <td>27.3</td>\n",
       "      <td>90.4</td>\n",
       "      <td>63.1</td>\n",
       "      <td>241.6</td>\n",
       "    </tr>\n",
       "  </tbody>\n",
       "</table>\n",
       "</div>"
      ],
      "text/plain": [
       "            Flow_mean  Flow_sum  Flow_median  Flow_var  Flow_std  Flow_min  \\\n",
       "month_year                                                                   \n",
       "01-20           208.9  155390.5        215.2    1239.7      35.2      24.0   \n",
       "02-20           192.7  134133.7        216.3    4129.3      64.3       0.0   \n",
       "03-20            26.6   19821.0         26.3      25.4       5.0       0.0   \n",
       "04-20           124.4   89595.5        126.6    9915.7      99.6       3.1   \n",
       "05-20           154.1  114623.7        204.4    7746.1      88.0       0.0   \n",
       "06-20           163.7  117889.1        212.0    9329.7      96.6       0.0   \n",
       "07-20           248.2  184645.4        252.6    1052.4      32.4      36.9   \n",
       "08-20           263.5   22920.6        274.4    1218.6      34.9      42.0   \n",
       "\n",
       "            Flow_max  Temp_mean  Temp_sum  Temp_median  Temp_var  Temp_std  \\\n",
       "month_year                                                                   \n",
       "01-20          262.6       78.0   58061.1         79.5      76.4       8.7   \n",
       "02-20          257.6       76.0   52882.1         79.2     201.7      14.2   \n",
       "03-20           38.0       77.3   57545.5         80.4     172.0      13.1   \n",
       "04-20          275.7       79.2   56999.7         80.6      77.9       8.8   \n",
       "05-20          262.8       68.4   50881.4         79.3     541.4      23.3   \n",
       "06-20          278.1       63.5   45740.7         78.7     797.0      28.2   \n",
       "07-20          286.5       80.1   59566.3         80.8      45.5       6.7   \n",
       "08-20          283.6       80.4    6993.4         80.9      57.5       7.6   \n",
       "\n",
       "            Temp_min  Temp_max  Temp_range  Flow_range  \n",
       "month_year                                              \n",
       "01-20            4.8      93.2        88.3       238.6  \n",
       "02-20            1.3      91.5        90.2       257.6  \n",
       "03-20            4.3      90.4        86.1        38.0  \n",
       "04-20           15.5      93.5        78.1       272.6  \n",
       "05-20            0.0      95.3        95.3       262.8  \n",
       "06-20           12.8      94.3        81.5       278.1  \n",
       "07-20           23.9      92.0        68.2       249.6  \n",
       "08-20           27.3      90.4        63.1       241.6  "
      ]
     },
     "execution_count": 24,
     "metadata": {},
     "output_type": "execute_result"
    }
   ],
   "source": [
    "dat_tab"
   ]
  },
  {
   "cell_type": "markdown",
   "metadata": {},
   "source": [
    "Saving information to excel file"
   ]
  },
  {
   "cell_type": "code",
   "execution_count": 25,
   "metadata": {},
   "outputs": [],
   "source": [
    "writer=pd.ExcelWriter('C:/YellowBelt/Stat_final.xlsx')\n",
    "dat_tab.to_excel(writer,'Data')\n",
    "writer.save()"
   ]
  },
  {
   "cell_type": "code",
   "execution_count": null,
   "metadata": {},
   "outputs": [],
   "source": []
  }
 ],
 "metadata": {
  "kernelspec": {
   "display_name": "Python 3",
   "language": "python",
   "name": "python3"
  },
  "language_info": {
   "codemirror_mode": {
    "name": "ipython",
    "version": 3
   },
   "file_extension": ".py",
   "mimetype": "text/x-python",
   "name": "python",
   "nbconvert_exporter": "python",
   "pygments_lexer": "ipython3",
   "version": "3.7.6"
  }
 },
 "nbformat": 4,
 "nbformat_minor": 4
}
