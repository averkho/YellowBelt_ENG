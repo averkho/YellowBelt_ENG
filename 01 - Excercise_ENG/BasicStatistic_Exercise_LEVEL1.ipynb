{
 "cells": [
  {
   "cell_type": "markdown",
   "metadata": {},
   "source": [
    "Importing the libraries and modules"
   ]
  },
  {
   "cell_type": "code",
   "execution_count": 1,
   "metadata": {},
   "outputs": [],
   "source": []
  },
  {
   "cell_type": "markdown",
   "metadata": {},
   "source": [
    "Importing data from Excel"
   ]
  },
  {
   "cell_type": "code",
   "execution_count": 2,
   "metadata": {},
   "outputs": [],
   "source": []
  },
  {
   "cell_type": "raw",
   "metadata": {},
   "source": [
    "Checking data types"
   ]
  },
  {
   "cell_type": "code",
   "execution_count": 3,
   "metadata": {},
   "outputs": [
    {
     "data": {
      "text/plain": [
       "Timestamp                 datetime64[ns]\n",
       "Electricity, MW/h                float64\n",
       "Gas consumption, km3/h           float64\n",
       "dtype: object"
      ]
     },
     "execution_count": 3,
     "metadata": {},
     "output_type": "execute_result"
    }
   ],
   "source": []
  },
  {
   "cell_type": "code",
   "execution_count": 5,
   "metadata": {},
   "outputs": [
    {
     "data": {
      "text/html": [
       "<div>\n",
       "<style scoped>\n",
       "    .dataframe tbody tr th:only-of-type {\n",
       "        vertical-align: middle;\n",
       "    }\n",
       "\n",
       "    .dataframe tbody tr th {\n",
       "        vertical-align: top;\n",
       "    }\n",
       "\n",
       "    .dataframe thead th {\n",
       "        text-align: right;\n",
       "    }\n",
       "</style>\n",
       "<table border=\"1\" class=\"dataframe\">\n",
       "  <thead>\n",
       "    <tr style=\"text-align: right;\">\n",
       "      <th></th>\n",
       "      <th>Timestamp</th>\n",
       "      <th>Electricity, MW/h</th>\n",
       "      <th>Gas consumption, km3/h</th>\n",
       "    </tr>\n",
       "  </thead>\n",
       "  <tbody>\n",
       "    <tr>\n",
       "      <th>0</th>\n",
       "      <td>2018-01-01</td>\n",
       "      <td>34.042624</td>\n",
       "      <td>108.816561</td>\n",
       "    </tr>\n",
       "    <tr>\n",
       "      <th>1</th>\n",
       "      <td>2018-01-02</td>\n",
       "      <td>33.719060</td>\n",
       "      <td>108.735638</td>\n",
       "    </tr>\n",
       "    <tr>\n",
       "      <th>2</th>\n",
       "      <td>2018-01-03</td>\n",
       "      <td>34.019193</td>\n",
       "      <td>108.815274</td>\n",
       "    </tr>\n",
       "    <tr>\n",
       "      <th>3</th>\n",
       "      <td>2018-01-04</td>\n",
       "      <td>33.984598</td>\n",
       "      <td>108.807703</td>\n",
       "    </tr>\n",
       "    <tr>\n",
       "      <th>4</th>\n",
       "      <td>2018-01-05</td>\n",
       "      <td>33.826620</td>\n",
       "      <td>108.758806</td>\n",
       "    </tr>\n",
       "  </tbody>\n",
       "</table>\n",
       "</div>"
      ],
      "text/plain": [
       "   Timestamp  Electricity, MW/h  Gas consumption, km3/h\n",
       "0 2018-01-01          34.042624              108.816561\n",
       "1 2018-01-02          33.719060              108.735638\n",
       "2 2018-01-03          34.019193              108.815274\n",
       "3 2018-01-04          33.984598              108.807703\n",
       "4 2018-01-05          33.826620              108.758806"
      ]
     },
     "execution_count": 5,
     "metadata": {},
     "output_type": "execute_result"
    }
   ],
   "source": []
  },
  {
   "cell_type": "markdown",
   "metadata": {},
   "source": [
    "Efficiency calculation"
   ]
  },
  {
   "cell_type": "code",
   "execution_count": 6,
   "metadata": {},
   "outputs": [],
   "source": [
    "dat['Efficiency']="
   ]
  },
  {
   "cell_type": "code",
   "execution_count": 7,
   "metadata": {},
   "outputs": [
    {
     "data": {
      "text/html": [
       "<div>\n",
       "<style scoped>\n",
       "    .dataframe tbody tr th:only-of-type {\n",
       "        vertical-align: middle;\n",
       "    }\n",
       "\n",
       "    .dataframe tbody tr th {\n",
       "        vertical-align: top;\n",
       "    }\n",
       "\n",
       "    .dataframe thead th {\n",
       "        text-align: right;\n",
       "    }\n",
       "</style>\n",
       "<table border=\"1\" class=\"dataframe\">\n",
       "  <thead>\n",
       "    <tr style=\"text-align: right;\">\n",
       "      <th></th>\n",
       "      <th>Timestamp</th>\n",
       "      <th>Electricity, MW/h</th>\n",
       "      <th>Gas consumption, km3/h</th>\n",
       "      <th>Efficiency</th>\n",
       "    </tr>\n",
       "  </thead>\n",
       "  <tbody>\n",
       "    <tr>\n",
       "      <th>0</th>\n",
       "      <td>2018-01-01</td>\n",
       "      <td>34.042624</td>\n",
       "      <td>108.816561</td>\n",
       "      <td>0.312844</td>\n",
       "    </tr>\n",
       "    <tr>\n",
       "      <th>1</th>\n",
       "      <td>2018-01-02</td>\n",
       "      <td>33.719060</td>\n",
       "      <td>108.735638</td>\n",
       "      <td>0.310101</td>\n",
       "    </tr>\n",
       "    <tr>\n",
       "      <th>2</th>\n",
       "      <td>2018-01-03</td>\n",
       "      <td>34.019193</td>\n",
       "      <td>108.815274</td>\n",
       "      <td>0.312633</td>\n",
       "    </tr>\n",
       "    <tr>\n",
       "      <th>3</th>\n",
       "      <td>2018-01-04</td>\n",
       "      <td>33.984598</td>\n",
       "      <td>108.807703</td>\n",
       "      <td>0.312336</td>\n",
       "    </tr>\n",
       "    <tr>\n",
       "      <th>4</th>\n",
       "      <td>2018-01-05</td>\n",
       "      <td>33.826620</td>\n",
       "      <td>108.758806</td>\n",
       "      <td>0.311024</td>\n",
       "    </tr>\n",
       "  </tbody>\n",
       "</table>\n",
       "</div>"
      ],
      "text/plain": [
       "   Timestamp  Electricity, MW/h  Gas consumption, km3/h  Efficiency\n",
       "0 2018-01-01          34.042624              108.816561    0.312844\n",
       "1 2018-01-02          33.719060              108.735638    0.310101\n",
       "2 2018-01-03          34.019193              108.815274    0.312633\n",
       "3 2018-01-04          33.984598              108.807703    0.312336\n",
       "4 2018-01-05          33.826620              108.758806    0.311024"
      ]
     },
     "execution_count": 7,
     "metadata": {},
     "output_type": "execute_result"
    }
   ],
   "source": []
  },
  {
   "cell_type": "markdown",
   "metadata": {},
   "source": [
    "# The task #1: Calculation of the main statistical parameters of the turbine."
   ]
  },
  {
   "cell_type": "raw",
   "metadata": {},
   "source": [
    "Mean calculation"
   ]
  },
  {
   "cell_type": "code",
   "execution_count": 8,
   "metadata": {},
   "outputs": [
    {
     "name": "stdout",
     "output_type": "stream",
     "text": [
      "Mean of  Electricity, MW/h  is  31.7\n",
      "Mean of  Gas consumption, km3/h  is  108.1\n",
      "Mean of  Efficiency  is  0.3\n"
     ]
    }
   ],
   "source": []
  },
  {
   "cell_type": "raw",
   "metadata": {},
   "source": [
    "Median calculation"
   ]
  },
  {
   "cell_type": "code",
   "execution_count": 9,
   "metadata": {},
   "outputs": [
    {
     "name": "stdout",
     "output_type": "stream",
     "text": [
      "Median of  Electricity, MW/h  is  32.5\n",
      "Median of  Gas consumption, km3/h  is  108.5\n",
      "Median of  Efficiency  is  0.3\n"
     ]
    }
   ],
   "source": []
  },
  {
   "cell_type": "markdown",
   "metadata": {},
   "source": [
    "Minimum and Maximum calculation"
   ]
  },
  {
   "cell_type": "code",
   "execution_count": 11,
   "metadata": {},
   "outputs": [
    {
     "name": "stdout",
     "output_type": "stream",
     "text": [
      "Minimum of  Electricity, MW/h  is  10.0\n",
      "Minimum of  Gas consumption, km3/h  is  100.0\n",
      "Minimum of  Efficiency  is  0.1\n",
      "Maximum of  Electricity, MW/h  is  37.9\n",
      "Maximum of  Gas consumption, km3/h  is  110.1\n",
      "Maximum of  Efficiency  is  0.3\n"
     ]
    }
   ],
   "source": [
    "\n",
    " \n",
    "    \n",
    "    \n",
    "    "
   ]
  },
  {
   "cell_type": "raw",
   "metadata": {},
   "source": [
    "Range calculation"
   ]
  },
  {
   "cell_type": "code",
   "execution_count": 12,
   "metadata": {},
   "outputs": [
    {
     "name": "stdout",
     "output_type": "stream",
     "text": [
      "Range of  Electricity, MW/h  is  27.9\n",
      "Range of  Gas consumption, km3/h  is  10.0\n",
      "Range of  Efficiency  is  0.2\n"
     ]
    }
   ],
   "source": [
    "\n",
    "\n",
    "\n"
   ]
  },
  {
   "cell_type": "raw",
   "metadata": {},
   "source": [
    "Standard deviation and Variance calculation"
   ]
  },
  {
   "cell_type": "code",
   "execution_count": 13,
   "metadata": {},
   "outputs": [
    {
     "name": "stdout",
     "output_type": "stream",
     "text": [
      "Standard deviation of  Electricity, MW/h  is  5.01\n",
      "Standard deviation of  Gas consumption, km3/h  is  1.8\n",
      "Standard deviation of  Efficiency  is  0.04\n",
      "Standard deviation of  Electricity, MW/h  is  25.0738\n",
      "Standard deviation of  Gas consumption, km3/h  is  3.2447\n",
      "Standard deviation of  Efficiency  is  0.0019\n"
     ]
    }
   ],
   "source": [
    "\n",
    "\n",
    "\n",
    "\n",
    "\n"
   ]
  },
  {
   "cell_type": "raw",
   "metadata": {},
   "source": [
    "Sum of Electricity Generation and Gas Consumption for the period. For efficiency it is not useful"
   ]
  },
  {
   "cell_type": "code",
   "execution_count": 14,
   "metadata": {},
   "outputs": [
    {
     "name": "stdout",
     "output_type": "stream",
     "text": [
      "Sum of  Electricity, MW/h  is  30837.0\n",
      "Sum of  Gas consumption, km3/h  is  105217.0\n"
     ]
    }
   ],
   "source": [
    "\n",
    "\n",
    "\n"
   ]
  },
  {
   "cell_type": "markdown",
   "metadata": {},
   "source": [
    "# The task #2: Assess the performance of the turbine in dynamics. For three yeas 2018, 2019 and 2020"
   ]
  },
  {
   "cell_type": "raw",
   "metadata": {},
   "source": [
    "Getting the year from timestamp"
   ]
  },
  {
   "cell_type": "code",
   "execution_count": 15,
   "metadata": {},
   "outputs": [],
   "source": []
  },
  {
   "cell_type": "raw",
   "metadata": {},
   "source": [
    "The list of functions to calculate mean, median, sum, std, var, min, max"
   ]
  },
  {
   "cell_type": "code",
   "execution_count": 16,
   "metadata": {},
   "outputs": [],
   "source": []
  },
  {
   "cell_type": "raw",
   "metadata": {},
   "source": [
    "Groupped DataFrame"
   ]
  },
  {
   "cell_type": "code",
   "execution_count": 19,
   "metadata": {},
   "outputs": [],
   "source": [
    "dat_tab="
   ]
  },
  {
   "cell_type": "code",
   "execution_count": 20,
   "metadata": {},
   "outputs": [
    {
     "data": {
      "text/html": [
       "<div>\n",
       "<style scoped>\n",
       "    .dataframe tbody tr th:only-of-type {\n",
       "        vertical-align: middle;\n",
       "    }\n",
       "\n",
       "    .dataframe tbody tr th {\n",
       "        vertical-align: top;\n",
       "    }\n",
       "\n",
       "    .dataframe thead tr th {\n",
       "        text-align: left;\n",
       "    }\n",
       "\n",
       "    .dataframe thead tr:last-of-type th {\n",
       "        text-align: right;\n",
       "    }\n",
       "</style>\n",
       "<table border=\"1\" class=\"dataframe\">\n",
       "  <thead>\n",
       "    <tr>\n",
       "      <th></th>\n",
       "      <th colspan=\"7\" halign=\"left\">Electricity, MW/h</th>\n",
       "      <th colspan=\"7\" halign=\"left\">Gas consumption, km3/h</th>\n",
       "      <th colspan=\"7\" halign=\"left\">Efficiency</th>\n",
       "    </tr>\n",
       "    <tr>\n",
       "      <th></th>\n",
       "      <th>mean</th>\n",
       "      <th>median</th>\n",
       "      <th>sum</th>\n",
       "      <th>std</th>\n",
       "      <th>var</th>\n",
       "      <th>min</th>\n",
       "      <th>max</th>\n",
       "      <th>mean</th>\n",
       "      <th>median</th>\n",
       "      <th>sum</th>\n",
       "      <th>...</th>\n",
       "      <th>var</th>\n",
       "      <th>min</th>\n",
       "      <th>max</th>\n",
       "      <th>mean</th>\n",
       "      <th>median</th>\n",
       "      <th>sum</th>\n",
       "      <th>std</th>\n",
       "      <th>var</th>\n",
       "      <th>min</th>\n",
       "      <th>max</th>\n",
       "    </tr>\n",
       "    <tr>\n",
       "      <th>year</th>\n",
       "      <th></th>\n",
       "      <th></th>\n",
       "      <th></th>\n",
       "      <th></th>\n",
       "      <th></th>\n",
       "      <th></th>\n",
       "      <th></th>\n",
       "      <th></th>\n",
       "      <th></th>\n",
       "      <th></th>\n",
       "      <th></th>\n",
       "      <th></th>\n",
       "      <th></th>\n",
       "      <th></th>\n",
       "      <th></th>\n",
       "      <th></th>\n",
       "      <th></th>\n",
       "      <th></th>\n",
       "      <th></th>\n",
       "      <th></th>\n",
       "      <th></th>\n",
       "    </tr>\n",
       "  </thead>\n",
       "  <tbody>\n",
       "    <tr>\n",
       "      <th>2018</th>\n",
       "      <td>32.723035</td>\n",
       "      <td>33.214027</td>\n",
       "      <td>11943.907672</td>\n",
       "      <td>4.148757</td>\n",
       "      <td>17.212185</td>\n",
       "      <td>10.0</td>\n",
       "      <td>37.900189</td>\n",
       "      <td>108.474820</td>\n",
       "      <td>108.636490</td>\n",
       "      <td>39593.309291</td>\n",
       "      <td>...</td>\n",
       "      <td>2.084443</td>\n",
       "      <td>100.004253</td>\n",
       "      <td>110.050978</td>\n",
       "      <td>0.301189</td>\n",
       "      <td>0.305827</td>\n",
       "      <td>109.933976</td>\n",
       "      <td>0.036174</td>\n",
       "      <td>0.001309</td>\n",
       "      <td>0.099976</td>\n",
       "      <td>0.344388</td>\n",
       "    </tr>\n",
       "    <tr>\n",
       "      <th>2019</th>\n",
       "      <td>31.301939</td>\n",
       "      <td>32.895462</td>\n",
       "      <td>11425.207698</td>\n",
       "      <td>6.129899</td>\n",
       "      <td>37.575656</td>\n",
       "      <td>10.0</td>\n",
       "      <td>37.518253</td>\n",
       "      <td>107.948734</td>\n",
       "      <td>108.549256</td>\n",
       "      <td>39401.287755</td>\n",
       "      <td>...</td>\n",
       "      <td>5.034836</td>\n",
       "      <td>100.003714</td>\n",
       "      <td>109.944073</td>\n",
       "      <td>0.288853</td>\n",
       "      <td>0.303023</td>\n",
       "      <td>105.431184</td>\n",
       "      <td>0.054016</td>\n",
       "      <td>0.002918</td>\n",
       "      <td>0.099739</td>\n",
       "      <td>0.341249</td>\n",
       "    </tr>\n",
       "    <tr>\n",
       "      <th>2020</th>\n",
       "      <td>30.733396</td>\n",
       "      <td>31.777912</td>\n",
       "      <td>7468.215210</td>\n",
       "      <td>3.942850</td>\n",
       "      <td>15.546064</td>\n",
       "      <td>10.0</td>\n",
       "      <td>34.789254</td>\n",
       "      <td>107.911389</td>\n",
       "      <td>108.258369</td>\n",
       "      <td>26222.467638</td>\n",
       "      <td>...</td>\n",
       "      <td>2.047405</td>\n",
       "      <td>100.003732</td>\n",
       "      <td>109.178997</td>\n",
       "      <td>0.284348</td>\n",
       "      <td>0.293657</td>\n",
       "      <td>69.096524</td>\n",
       "      <td>0.034596</td>\n",
       "      <td>0.001197</td>\n",
       "      <td>0.099995</td>\n",
       "      <td>0.318831</td>\n",
       "    </tr>\n",
       "  </tbody>\n",
       "</table>\n",
       "<p>3 rows × 21 columns</p>\n",
       "</div>"
      ],
      "text/plain": [
       "     Electricity, MW/h                                                      \\\n",
       "                  mean     median           sum       std        var   min   \n",
       "year                                                                         \n",
       "2018         32.723035  33.214027  11943.907672  4.148757  17.212185  10.0   \n",
       "2019         31.301939  32.895462  11425.207698  6.129899  37.575656  10.0   \n",
       "2020         30.733396  31.777912   7468.215210  3.942850  15.546064  10.0   \n",
       "\n",
       "                Gas consumption, km3/h                            ...  \\\n",
       "            max                   mean      median           sum  ...   \n",
       "year                                                              ...   \n",
       "2018  37.900189             108.474820  108.636490  39593.309291  ...   \n",
       "2019  37.518253             107.948734  108.549256  39401.287755  ...   \n",
       "2020  34.789254             107.911389  108.258369  26222.467638  ...   \n",
       "\n",
       "                                       Efficiency                        \\\n",
       "           var         min         max       mean    median         sum   \n",
       "year                                                                      \n",
       "2018  2.084443  100.004253  110.050978   0.301189  0.305827  109.933976   \n",
       "2019  5.034836  100.003714  109.944073   0.288853  0.303023  105.431184   \n",
       "2020  2.047405  100.003732  109.178997   0.284348  0.293657   69.096524   \n",
       "\n",
       "                                              \n",
       "           std       var       min       max  \n",
       "year                                          \n",
       "2018  0.036174  0.001309  0.099976  0.344388  \n",
       "2019  0.054016  0.002918  0.099739  0.341249  \n",
       "2020  0.034596  0.001197  0.099995  0.318831  \n",
       "\n",
       "[3 rows x 21 columns]"
      ]
     },
     "execution_count": 20,
     "metadata": {},
     "output_type": "execute_result"
    }
   ],
   "source": []
  },
  {
   "cell_type": "raw",
   "metadata": {},
   "source": [
    "The names of columns for further processing"
   ]
  },
  {
   "cell_type": "code",
   "execution_count": 23,
   "metadata": {},
   "outputs": [
    {
     "data": {
      "text/plain": [
       "['Electricity', 'Gas consumption', 'Efficiency']"
      ]
     },
     "execution_count": 23,
     "metadata": {},
     "output_type": "execute_result"
    }
   ],
   "source": []
  },
  {
   "cell_type": "raw",
   "metadata": {},
   "source": [
    "Make a nested list"
   ]
  },
  {
   "cell_type": "code",
   "execution_count": 22,
   "metadata": {},
   "outputs": [
    {
     "data": {
      "text/plain": [
       "[['Electricity_mean',\n",
       "  'Electricity_median',\n",
       "  'Electricity_sum',\n",
       "  'Electricity_std',\n",
       "  'Electricity_var',\n",
       "  'Electricity_min',\n",
       "  'Electricity_max'],\n",
       " ['Gas consumption_mean',\n",
       "  'Gas consumption_median',\n",
       "  'Gas consumption_sum',\n",
       "  'Gas consumption_std',\n",
       "  'Gas consumption_var',\n",
       "  'Gas consumption_min',\n",
       "  'Gas consumption_max'],\n",
       " ['Efficiency_mean',\n",
       "  'Efficiency_median',\n",
       "  'Efficiency_sum',\n",
       "  'Efficiency_std',\n",
       "  'Efficiency_var',\n",
       "  'Efficiency_min',\n",
       "  'Efficiency_max']]"
      ]
     },
     "execution_count": 22,
     "metadata": {},
     "output_type": "execute_result"
    }
   ],
   "source": []
  },
  {
   "cell_type": "raw",
   "metadata": {},
   "source": [
    "The length of the list"
   ]
  },
  {
   "cell_type": "raw",
   "metadata": {},
   "source": [
    "Deconstruction of nested list"
   ]
  },
  {
   "cell_type": "code",
   "execution_count": 24,
   "metadata": {},
   "outputs": [],
   "source": []
  },
  {
   "cell_type": "code",
   "execution_count": 26,
   "metadata": {},
   "outputs": [
    {
     "data": {
      "text/plain": [
       "['Electricity_mean',\n",
       " 'Electricity_median',\n",
       " 'Electricity_sum',\n",
       " 'Electricity_std',\n",
       " 'Electricity_var',\n",
       " 'Electricity_min',\n",
       " 'Electricity_max',\n",
       " 'Gas consumption_mean',\n",
       " 'Gas consumption_median',\n",
       " 'Gas consumption_sum',\n",
       " 'Gas consumption_std',\n",
       " 'Gas consumption_var',\n",
       " 'Gas consumption_min',\n",
       " 'Gas consumption_max',\n",
       " 'Efficiency_mean',\n",
       " 'Efficiency_median',\n",
       " 'Efficiency_sum',\n",
       " 'Efficiency_std',\n",
       " 'Efficiency_var',\n",
       " 'Efficiency_min',\n",
       " 'Efficiency_max']"
      ]
     },
     "execution_count": 26,
     "metadata": {},
     "output_type": "execute_result"
    }
   ],
   "source": []
  },
  {
   "cell_type": "raw",
   "metadata": {},
   "source": [
    "Column names assignment"
   ]
  },
  {
   "cell_type": "code",
   "execution_count": 25,
   "metadata": {},
   "outputs": [],
   "source": []
  },
  {
   "cell_type": "raw",
   "metadata": {},
   "source": [
    "Range calculation"
   ]
  },
  {
   "cell_type": "code",
   "execution_count": 27,
   "metadata": {},
   "outputs": [],
   "source": [
    "\n",
    "\n",
    "\n"
   ]
  },
  {
   "cell_type": "code",
   "execution_count": 28,
   "metadata": {},
   "outputs": [
    {
     "data": {
      "text/html": [
       "<div>\n",
       "<style scoped>\n",
       "    .dataframe tbody tr th:only-of-type {\n",
       "        vertical-align: middle;\n",
       "    }\n",
       "\n",
       "    .dataframe tbody tr th {\n",
       "        vertical-align: top;\n",
       "    }\n",
       "\n",
       "    .dataframe thead th {\n",
       "        text-align: right;\n",
       "    }\n",
       "</style>\n",
       "<table border=\"1\" class=\"dataframe\">\n",
       "  <thead>\n",
       "    <tr style=\"text-align: right;\">\n",
       "      <th></th>\n",
       "      <th>Electricity_mean</th>\n",
       "      <th>Electricity_median</th>\n",
       "      <th>Electricity_sum</th>\n",
       "      <th>Electricity_std</th>\n",
       "      <th>Electricity_var</th>\n",
       "      <th>Electricity_min</th>\n",
       "      <th>Electricity_max</th>\n",
       "      <th>Gas consumption_mean</th>\n",
       "      <th>Gas consumption_median</th>\n",
       "      <th>Gas consumption_sum</th>\n",
       "      <th>...</th>\n",
       "      <th>Efficiency_mean</th>\n",
       "      <th>Efficiency_median</th>\n",
       "      <th>Efficiency_sum</th>\n",
       "      <th>Efficiency_std</th>\n",
       "      <th>Efficiency_var</th>\n",
       "      <th>Efficiency_min</th>\n",
       "      <th>Efficiency_max</th>\n",
       "      <th>Electricity_range</th>\n",
       "      <th>Gas consumption_range</th>\n",
       "      <th>Efficiency_range</th>\n",
       "    </tr>\n",
       "    <tr>\n",
       "      <th>year</th>\n",
       "      <th></th>\n",
       "      <th></th>\n",
       "      <th></th>\n",
       "      <th></th>\n",
       "      <th></th>\n",
       "      <th></th>\n",
       "      <th></th>\n",
       "      <th></th>\n",
       "      <th></th>\n",
       "      <th></th>\n",
       "      <th></th>\n",
       "      <th></th>\n",
       "      <th></th>\n",
       "      <th></th>\n",
       "      <th></th>\n",
       "      <th></th>\n",
       "      <th></th>\n",
       "      <th></th>\n",
       "      <th></th>\n",
       "      <th></th>\n",
       "      <th></th>\n",
       "    </tr>\n",
       "  </thead>\n",
       "  <tbody>\n",
       "    <tr>\n",
       "      <th>2018</th>\n",
       "      <td>32.723035</td>\n",
       "      <td>33.214027</td>\n",
       "      <td>11943.907672</td>\n",
       "      <td>4.148757</td>\n",
       "      <td>17.212185</td>\n",
       "      <td>10.0</td>\n",
       "      <td>37.900189</td>\n",
       "      <td>108.474820</td>\n",
       "      <td>108.636490</td>\n",
       "      <td>39593.309291</td>\n",
       "      <td>...</td>\n",
       "      <td>0.301189</td>\n",
       "      <td>0.305827</td>\n",
       "      <td>109.933976</td>\n",
       "      <td>0.036174</td>\n",
       "      <td>0.001309</td>\n",
       "      <td>0.099976</td>\n",
       "      <td>0.344388</td>\n",
       "      <td>27.900189</td>\n",
       "      <td>10.046725</td>\n",
       "      <td>0.244412</td>\n",
       "    </tr>\n",
       "    <tr>\n",
       "      <th>2019</th>\n",
       "      <td>31.301939</td>\n",
       "      <td>32.895462</td>\n",
       "      <td>11425.207698</td>\n",
       "      <td>6.129899</td>\n",
       "      <td>37.575656</td>\n",
       "      <td>10.0</td>\n",
       "      <td>37.518253</td>\n",
       "      <td>107.948734</td>\n",
       "      <td>108.549256</td>\n",
       "      <td>39401.287755</td>\n",
       "      <td>...</td>\n",
       "      <td>0.288853</td>\n",
       "      <td>0.303023</td>\n",
       "      <td>105.431184</td>\n",
       "      <td>0.054016</td>\n",
       "      <td>0.002918</td>\n",
       "      <td>0.099739</td>\n",
       "      <td>0.341249</td>\n",
       "      <td>27.518253</td>\n",
       "      <td>9.940359</td>\n",
       "      <td>0.241510</td>\n",
       "    </tr>\n",
       "    <tr>\n",
       "      <th>2020</th>\n",
       "      <td>30.733396</td>\n",
       "      <td>31.777912</td>\n",
       "      <td>7468.215210</td>\n",
       "      <td>3.942850</td>\n",
       "      <td>15.546064</td>\n",
       "      <td>10.0</td>\n",
       "      <td>34.789254</td>\n",
       "      <td>107.911389</td>\n",
       "      <td>108.258369</td>\n",
       "      <td>26222.467638</td>\n",
       "      <td>...</td>\n",
       "      <td>0.284348</td>\n",
       "      <td>0.293657</td>\n",
       "      <td>69.096524</td>\n",
       "      <td>0.034596</td>\n",
       "      <td>0.001197</td>\n",
       "      <td>0.099995</td>\n",
       "      <td>0.318831</td>\n",
       "      <td>24.789254</td>\n",
       "      <td>9.175265</td>\n",
       "      <td>0.218836</td>\n",
       "    </tr>\n",
       "  </tbody>\n",
       "</table>\n",
       "<p>3 rows × 24 columns</p>\n",
       "</div>"
      ],
      "text/plain": [
       "      Electricity_mean  Electricity_median  Electricity_sum  Electricity_std  \\\n",
       "year                                                                           \n",
       "2018         32.723035           33.214027     11943.907672         4.148757   \n",
       "2019         31.301939           32.895462     11425.207698         6.129899   \n",
       "2020         30.733396           31.777912      7468.215210         3.942850   \n",
       "\n",
       "      Electricity_var  Electricity_min  Electricity_max  Gas consumption_mean  \\\n",
       "year                                                                            \n",
       "2018        17.212185             10.0        37.900189            108.474820   \n",
       "2019        37.575656             10.0        37.518253            107.948734   \n",
       "2020        15.546064             10.0        34.789254            107.911389   \n",
       "\n",
       "      Gas consumption_median  Gas consumption_sum  ...  Efficiency_mean  \\\n",
       "year                                               ...                    \n",
       "2018              108.636490         39593.309291  ...         0.301189   \n",
       "2019              108.549256         39401.287755  ...         0.288853   \n",
       "2020              108.258369         26222.467638  ...         0.284348   \n",
       "\n",
       "      Efficiency_median  Efficiency_sum  Efficiency_std  Efficiency_var  \\\n",
       "year                                                                      \n",
       "2018           0.305827      109.933976        0.036174        0.001309   \n",
       "2019           0.303023      105.431184        0.054016        0.002918   \n",
       "2020           0.293657       69.096524        0.034596        0.001197   \n",
       "\n",
       "      Efficiency_min  Efficiency_max  Electricity_range  \\\n",
       "year                                                      \n",
       "2018        0.099976        0.344388          27.900189   \n",
       "2019        0.099739        0.341249          27.518253   \n",
       "2020        0.099995        0.318831          24.789254   \n",
       "\n",
       "      Gas consumption_range  Efficiency_range  \n",
       "year                                           \n",
       "2018              10.046725          0.244412  \n",
       "2019               9.940359          0.241510  \n",
       "2020               9.175265          0.218836  \n",
       "\n",
       "[3 rows x 24 columns]"
      ]
     },
     "execution_count": 28,
     "metadata": {},
     "output_type": "execute_result"
    }
   ],
   "source": []
  },
  {
   "cell_type": "raw",
   "metadata": {},
   "source": [
    "Transposing DataFrame"
   ]
  },
  {
   "cell_type": "code",
   "execution_count": 29,
   "metadata": {},
   "outputs": [],
   "source": []
  },
  {
   "cell_type": "raw",
   "metadata": {},
   "source": [
    "Rounding DataFrame"
   ]
  },
  {
   "cell_type": "code",
   "execution_count": 32,
   "metadata": {},
   "outputs": [],
   "source": [
    "dat_tab="
   ]
  },
  {
   "cell_type": "code",
   "execution_count": 33,
   "metadata": {},
   "outputs": [
    {
     "data": {
      "text/html": [
       "<div>\n",
       "<style scoped>\n",
       "    .dataframe tbody tr th:only-of-type {\n",
       "        vertical-align: middle;\n",
       "    }\n",
       "\n",
       "    .dataframe tbody tr th {\n",
       "        vertical-align: top;\n",
       "    }\n",
       "\n",
       "    .dataframe thead th {\n",
       "        text-align: right;\n",
       "    }\n",
       "</style>\n",
       "<table border=\"1\" class=\"dataframe\">\n",
       "  <thead>\n",
       "    <tr style=\"text-align: right;\">\n",
       "      <th>year</th>\n",
       "      <th>2018</th>\n",
       "      <th>2019</th>\n",
       "      <th>2020</th>\n",
       "    </tr>\n",
       "  </thead>\n",
       "  <tbody>\n",
       "    <tr>\n",
       "      <th>Electricity_mean</th>\n",
       "      <td>32.72</td>\n",
       "      <td>31.30</td>\n",
       "      <td>30.73</td>\n",
       "    </tr>\n",
       "    <tr>\n",
       "      <th>Electricity_median</th>\n",
       "      <td>33.21</td>\n",
       "      <td>32.90</td>\n",
       "      <td>31.78</td>\n",
       "    </tr>\n",
       "    <tr>\n",
       "      <th>Electricity_sum</th>\n",
       "      <td>11943.91</td>\n",
       "      <td>11425.21</td>\n",
       "      <td>7468.22</td>\n",
       "    </tr>\n",
       "    <tr>\n",
       "      <th>Electricity_std</th>\n",
       "      <td>4.15</td>\n",
       "      <td>6.13</td>\n",
       "      <td>3.94</td>\n",
       "    </tr>\n",
       "    <tr>\n",
       "      <th>Electricity_var</th>\n",
       "      <td>17.21</td>\n",
       "      <td>37.58</td>\n",
       "      <td>15.55</td>\n",
       "    </tr>\n",
       "    <tr>\n",
       "      <th>Electricity_min</th>\n",
       "      <td>10.00</td>\n",
       "      <td>10.00</td>\n",
       "      <td>10.00</td>\n",
       "    </tr>\n",
       "    <tr>\n",
       "      <th>Electricity_max</th>\n",
       "      <td>37.90</td>\n",
       "      <td>37.52</td>\n",
       "      <td>34.79</td>\n",
       "    </tr>\n",
       "    <tr>\n",
       "      <th>Gas consumption_mean</th>\n",
       "      <td>108.47</td>\n",
       "      <td>107.95</td>\n",
       "      <td>107.91</td>\n",
       "    </tr>\n",
       "    <tr>\n",
       "      <th>Gas consumption_median</th>\n",
       "      <td>108.64</td>\n",
       "      <td>108.55</td>\n",
       "      <td>108.26</td>\n",
       "    </tr>\n",
       "    <tr>\n",
       "      <th>Gas consumption_sum</th>\n",
       "      <td>39593.31</td>\n",
       "      <td>39401.29</td>\n",
       "      <td>26222.47</td>\n",
       "    </tr>\n",
       "    <tr>\n",
       "      <th>Gas consumption_std</th>\n",
       "      <td>1.44</td>\n",
       "      <td>2.24</td>\n",
       "      <td>1.43</td>\n",
       "    </tr>\n",
       "    <tr>\n",
       "      <th>Gas consumption_var</th>\n",
       "      <td>2.08</td>\n",
       "      <td>5.03</td>\n",
       "      <td>2.05</td>\n",
       "    </tr>\n",
       "    <tr>\n",
       "      <th>Gas consumption_min</th>\n",
       "      <td>100.00</td>\n",
       "      <td>100.00</td>\n",
       "      <td>100.00</td>\n",
       "    </tr>\n",
       "    <tr>\n",
       "      <th>Gas consumption_max</th>\n",
       "      <td>110.05</td>\n",
       "      <td>109.94</td>\n",
       "      <td>109.18</td>\n",
       "    </tr>\n",
       "    <tr>\n",
       "      <th>Efficiency_mean</th>\n",
       "      <td>0.30</td>\n",
       "      <td>0.29</td>\n",
       "      <td>0.28</td>\n",
       "    </tr>\n",
       "    <tr>\n",
       "      <th>Efficiency_median</th>\n",
       "      <td>0.31</td>\n",
       "      <td>0.30</td>\n",
       "      <td>0.29</td>\n",
       "    </tr>\n",
       "    <tr>\n",
       "      <th>Efficiency_sum</th>\n",
       "      <td>109.93</td>\n",
       "      <td>105.43</td>\n",
       "      <td>69.10</td>\n",
       "    </tr>\n",
       "    <tr>\n",
       "      <th>Efficiency_std</th>\n",
       "      <td>0.04</td>\n",
       "      <td>0.05</td>\n",
       "      <td>0.03</td>\n",
       "    </tr>\n",
       "    <tr>\n",
       "      <th>Efficiency_var</th>\n",
       "      <td>0.00</td>\n",
       "      <td>0.00</td>\n",
       "      <td>0.00</td>\n",
       "    </tr>\n",
       "    <tr>\n",
       "      <th>Efficiency_min</th>\n",
       "      <td>0.10</td>\n",
       "      <td>0.10</td>\n",
       "      <td>0.10</td>\n",
       "    </tr>\n",
       "    <tr>\n",
       "      <th>Efficiency_max</th>\n",
       "      <td>0.34</td>\n",
       "      <td>0.34</td>\n",
       "      <td>0.32</td>\n",
       "    </tr>\n",
       "    <tr>\n",
       "      <th>Electricity_range</th>\n",
       "      <td>27.90</td>\n",
       "      <td>27.52</td>\n",
       "      <td>24.79</td>\n",
       "    </tr>\n",
       "    <tr>\n",
       "      <th>Gas consumption_range</th>\n",
       "      <td>10.05</td>\n",
       "      <td>9.94</td>\n",
       "      <td>9.18</td>\n",
       "    </tr>\n",
       "    <tr>\n",
       "      <th>Efficiency_range</th>\n",
       "      <td>0.24</td>\n",
       "      <td>0.24</td>\n",
       "      <td>0.22</td>\n",
       "    </tr>\n",
       "  </tbody>\n",
       "</table>\n",
       "</div>"
      ],
      "text/plain": [
       "year                        2018      2019      2020\n",
       "Electricity_mean           32.72     31.30     30.73\n",
       "Electricity_median         33.21     32.90     31.78\n",
       "Electricity_sum         11943.91  11425.21   7468.22\n",
       "Electricity_std             4.15      6.13      3.94\n",
       "Electricity_var            17.21     37.58     15.55\n",
       "Electricity_min            10.00     10.00     10.00\n",
       "Electricity_max            37.90     37.52     34.79\n",
       "Gas consumption_mean      108.47    107.95    107.91\n",
       "Gas consumption_median    108.64    108.55    108.26\n",
       "Gas consumption_sum     39593.31  39401.29  26222.47\n",
       "Gas consumption_std         1.44      2.24      1.43\n",
       "Gas consumption_var         2.08      5.03      2.05\n",
       "Gas consumption_min       100.00    100.00    100.00\n",
       "Gas consumption_max       110.05    109.94    109.18\n",
       "Efficiency_mean             0.30      0.29      0.28\n",
       "Efficiency_median           0.31      0.30      0.29\n",
       "Efficiency_sum            109.93    105.43     69.10\n",
       "Efficiency_std              0.04      0.05      0.03\n",
       "Efficiency_var              0.00      0.00      0.00\n",
       "Efficiency_min              0.10      0.10      0.10\n",
       "Efficiency_max              0.34      0.34      0.32\n",
       "Electricity_range          27.90     27.52     24.79\n",
       "Gas consumption_range      10.05      9.94      9.18\n",
       "Efficiency_range            0.24      0.24      0.22"
      ]
     },
     "execution_count": 33,
     "metadata": {},
     "output_type": "execute_result"
    }
   ],
   "source": []
  },
  {
   "cell_type": "raw",
   "metadata": {},
   "source": [
    "Saving information to ExcelFile"
   ]
  },
  {
   "cell_type": "code",
   "execution_count": null,
   "metadata": {},
   "outputs": [],
   "source": [
    "writer="
   ]
  }
 ],
 "metadata": {
  "kernelspec": {
   "display_name": "Python 3",
   "language": "python",
   "name": "python3"
  },
  "language_info": {
   "codemirror_mode": {
    "name": "ipython",
    "version": 3
   },
   "file_extension": ".py",
   "mimetype": "text/x-python",
   "name": "python",
   "nbconvert_exporter": "python",
   "pygments_lexer": "ipython3",
   "version": "3.7.6"
  }
 },
 "nbformat": 4,
 "nbformat_minor": 4
}
